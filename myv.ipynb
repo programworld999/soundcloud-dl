{
 "cells": [
  {
   "cell_type": "code",
   "execution_count": 77,
   "metadata": {},
   "outputs": [],
   "source": [
    "import re\n",
    "import urllib.request\n",
    "import json\n",
    "import codecs\n",
    "import requests\n",
    "from bs4 import BeautifulSoup\n",
    "import urllib.request\n",
    "import wget"
   ]
  },
  {
   "cell_type": "code",
   "execution_count": 54,
   "metadata": {},
   "outputs": [],
   "source": [
    "CLIENTID = \"Oa1hmXnTqqE7F2PKUpRdMZqWoguyDLV0\"\n",
    "API = \"https://soundclouddownloader.info/iframe-api/?t={0}\"\n",
    "\n",
    "headers = {\n",
    "    'User-Agent':\n",
    "        'Mozilla/5.0 (Macintosh; Intel Mac OS X 10.12; rv:55.0) '\n",
    "        'Gecko/20100101 Firefox/55.0'\n",
    "}\n",
    "\n"
   ]
  },
  {
   "cell_type": "code",
   "execution_count": 15,
   "metadata": {},
   "outputs": [],
   "source": [
    "def get_id(html):\n",
    "    \"\"\"\n",
    "    Getting the ID of the song\n",
    "    \"\"\"\n",
    "    try:\n",
    "        song_id = re.findall('soundcloud://sounds:(.*?)\"', html)[0]\n",
    "        return song_id\n",
    "    except IndexError:\n",
    "        print(\"\\033[91m✘ Could not find song ID\\033[0m\")\n",
    "        sys.exit()"
   ]
  },
  {
   "cell_type": "code",
   "execution_count": 29,
   "metadata": {},
   "outputs": [],
   "source": [
    "def get_tags(html):\n",
    "    \"\"\"\n",
    "    Getting the tags so that we can put it into the\n",
    "    music file\n",
    "    \"\"\"\n",
    "    title = re.findall('\"title\":\"(.*?)\",', html)[0]\n",
    "#     title = codecs.getdecoder(\"unicode_escape\")(title)[0]\n",
    "\n",
    "    artist = re.findall('\"username\":\"(.*?)\",', html)[0]\n",
    "    artist = codecs.getdecoder(\"unicode_escape\")(artist)[0]\n",
    "\n",
    "    genre = re.findall('\"genre\":\"(.*?)\",', html)[0]\n",
    "    genre = codecs.getdecoder(\"unicode_escape\")(genre)[0]\n",
    "\n",
    "    return title, artist, genre"
   ]
  },
  {
   "cell_type": "code",
   "execution_count": 88,
   "metadata": {},
   "outputs": [],
   "source": [
    "def get_album_art_url(html):\n",
    "    \"\"\"\n",
    "    Getting the album art url so that we can download it\n",
    "    and add it to the music file later\n",
    "    \"\"\"\n",
    "    return re.findall('img src=\"(.*?)\" width=\"500\"', html)[0]\n"
   ]
  },
  {
   "cell_type": "code",
   "execution_count": 91,
   "metadata": {},
   "outputs": [],
   "source": [
    "def download(url, fname):\n",
    "    r = requests.get(url)\n",
    "    with open(fname, 'wb') as outfile:\n",
    "        outfile.write(r.content)"
   ]
  },
  {
   "cell_type": "code",
   "execution_count": 93,
   "metadata": {},
   "outputs": [
    {
     "name": "stdout",
     "output_type": "stream",
     "text": [
      "https://soundcloud.com/marshmellomusic/friends \n",
      "\n",
      "['396530439', 'FRIENDS', 'marshmello', 'Pop', 'https://i1.sndcdn.com/artworks-FPo2cQbaoM3O-0-t500x500.jpg']\n"
     ]
    }
   ],
   "source": [
    "\n",
    "def main():\n",
    "#     songUrl = input(\"Enter Song URL: \")\n",
    "    songUrl = \"https://soundcloud.com/marshmellomusic/friends\"\n",
    "    print(songUrl, \"\\n\")\n",
    "    r = requests.get(songUrl, headers=headers)\n",
    "    html = r.text\n",
    "    \n",
    "    song_id = get_id(html)\n",
    "    title = get_tags(html)[0]\n",
    "    artist = get_tags(html)[1]\n",
    "    genre = get_tags(html)[2]\n",
    "    arturl = get_album_art_url(html)\n",
    "    fileDetails = [song_id, title, artist, genre, arturl]\n",
    "    print(fileDetails)\n",
    "    \n",
    "    json_url = API.format(song_id)\n",
    "#     print(json_url)\n",
    "    data = requests.get(json_url)\n",
    "\n",
    "    soup = BeautifulSoup(data.text, 'html.parser')\n",
    "    downloadUrl = \"https://soundclouddownloader.info\"+soup.div.a['href']\n",
    "    fileName = title+\".mp3\"\n",
    "    \n",
    "    download(downloadUrl, fileName)\n",
    "\n",
    "if __name__ == \"__main__\":\n",
    "    main()"
   ]
  }
 ],
 "metadata": {
  "kernelspec": {
   "display_name": "Python 3",
   "language": "python",
   "name": "python3"
  },
  "language_info": {
   "codemirror_mode": {
    "name": "ipython",
    "version": 3
   },
   "file_extension": ".py",
   "mimetype": "text/x-python",
   "name": "python",
   "nbconvert_exporter": "python",
   "pygments_lexer": "ipython3",
   "version": "3.6.8"
  }
 },
 "nbformat": 4,
 "nbformat_minor": 4
}
